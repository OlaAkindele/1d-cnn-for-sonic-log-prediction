{
 "cells": [
  {
   "cell_type": "markdown",
   "id": "B2Dp2K5y2tMN",
   "metadata": {
    "id": "B2Dp2K5y2tMN"
   },
   "source": [
    "# Libraries and Packages"
   ]
  },
  {
   "cell_type": "code",
   "execution_count": 1,
   "id": "bd119742",
   "metadata": {
    "colab": {
     "base_uri": "https://localhost:8080/"
    },
    "id": "bd119742",
    "outputId": "b4710b7c-f3f5-4393-91ce-63ebe85a04dc"
   },
   "outputs": [],
   "source": [
    "!pip install -q pytorch.ignite\n",
    "!pip install -q torch\n",
    "!pip install -q lasio\n",
    "!pip install -q -U petrolib"
   ]
  },
  {
   "cell_type": "code",
   "execution_count": 2,
   "id": "joRVEfLJ2tMW",
   "metadata": {
    "id": "joRVEfLJ2tMW"
   },
   "outputs": [],
   "source": [
    "import os\n",
    "import lasio\n",
    "import pandas as pd\n",
    "import numpy as np\n",
    "import seaborn as sns\n",
    "import matplotlib\n",
    "from matplotlib import pyplot as plt\n",
    "from numpy import Inf, sqrt\n",
    "from tqdm.auto import tqdm\n",
    "\n",
    "import sklearn\n",
    "from sklearn.compose import ColumnTransformer\n",
    "from sklearn.preprocessing import PowerTransformer\n",
    "from sklearn.model_selection import train_test_split\n",
    "from sklearn.metrics import r2_score, mean_squared_error\n",
    "\n",
    "import torch\n",
    "from torch import nn\n",
    "from torch.nn import MSELoss\n",
    "from torch.optim import Adam\n",
    "from torch.utils.data import DataLoader, TensorDataset\n",
    "from ignite.contrib.metrics.regression.r2_score import R2Score\n",
    "\n",
    "from warnings import filterwarnings\n",
    "filterwarnings('ignore')\n",
    "\n",
    "%matplotlib inline\n",
    "%config BackendInline.figure_format = 'retina'\n",
    "pd.options.display.max_columns = 23"
   ]
  },
  {
   "cell_type": "code",
   "execution_count": 3,
   "id": "aSzYEB1I2tMX",
   "metadata": {
    "colab": {
     "base_uri": "https://localhost:8080/"
    },
    "id": "aSzYEB1I2tMX",
    "outputId": "c3f8a9af-c99d-4b14-dc77-b88c3685364e"
   },
   "outputs": [
    {
     "name": "stdout",
     "output_type": "stream",
     "text": [
      "pandas version : 1.4.4\n",
      "numpy version : 1.24.2\n",
      "scikit learn version : 1.0.2\n",
      "seaborn version : 0.11.2\n",
      "matplotlib version : 3.5.2\n",
      "torch version : 1.12.1\n",
      "lasio version : 0.31\n"
     ]
    }
   ],
   "source": [
    "print(f'pandas version : {pd.__version__}')\n",
    "print(f'numpy version : {np.__version__}')\n",
    "print(f'scikit learn version : {sklearn.__version__}')\n",
    "print(f'seaborn version : {sns.__version__}')\n",
    "print(f'matplotlib version : {matplotlib.__version__}')\n",
    "print(f'torch version : {torch.__version__}')\n",
    "print(f'lasio version : {lasio.version()}')"
   ]
  },
  {
   "cell_type": "code",
   "execution_count": 4,
   "id": "kV9TGxHH3Eu_",
   "metadata": {
    "colab": {
     "base_uri": "https://localhost:8080/"
    },
    "id": "kV9TGxHH3Eu_",
    "outputId": "f9736eb8-64de-498a-cb8f-3af968d14110"
   },
   "outputs": [
    {
     "ename": "ModuleNotFoundError",
     "evalue": "No module named 'google.colab'",
     "output_type": "error",
     "traceback": [
      "\u001b[1;31m---------------------------------------------------------------------------\u001b[0m",
      "\u001b[1;31mModuleNotFoundError\u001b[0m                       Traceback (most recent call last)",
      "\u001b[1;32m~\\AppData\\Local\\Temp\\ipykernel_17352\\1408506528.py\u001b[0m in \u001b[0;36m<module>\u001b[1;34m\u001b[0m\n\u001b[1;32m----> 1\u001b[1;33m \u001b[1;32mfrom\u001b[0m \u001b[0mgoogle\u001b[0m\u001b[1;33m.\u001b[0m\u001b[0mcolab\u001b[0m \u001b[1;32mimport\u001b[0m \u001b[0mdrive\u001b[0m\u001b[1;33m\u001b[0m\u001b[1;33m\u001b[0m\u001b[0m\n\u001b[0m\u001b[0;32m      2\u001b[0m \u001b[0mdrive\u001b[0m\u001b[1;33m.\u001b[0m\u001b[0mmount\u001b[0m\u001b[1;33m(\u001b[0m\u001b[1;34m'/content/drive'\u001b[0m\u001b[1;33m)\u001b[0m\u001b[1;33m\u001b[0m\u001b[1;33m\u001b[0m\u001b[0m\n",
      "\u001b[1;31mModuleNotFoundError\u001b[0m: No module named 'google.colab'"
     ]
    }
   ],
   "source": [
    "from google.colab import drive\n",
    "drive.mount('/content/drive')"
   ]
  },
  {
   "cell_type": "markdown",
   "id": "lqQzAant2tMb",
   "metadata": {
    "id": "lqQzAant2tMb"
   },
   "source": [
    "# Functions"
   ]
  },
  {
   "cell_type": "code",
   "execution_count": null,
   "id": "x4kigWD32tMc",
   "metadata": {
    "id": "x4kigWD32tMc"
   },
   "outputs": [],
   "source": [
    "#select columns to use in the dataframe\n",
    "col = ['NPHI', 'RHOB', 'GR', 'RT','DT', 'DTS', 'DEPTH']\n",
    "f_cols = ['DEPTH', 'WELL', 'GR', 'RT', 'RHOB', 'NPHI', 'DTC', 'DTS']\n",
    "\n",
    "def process_train(well, cols, name):\n",
    "\n",
    "    '''\n",
    "    cleans and process the train dataframe for null values\n",
    "\n",
    "    '''\n",
    "#     column = cols[:-2]\n",
    "    df = well.filter(cols, axis='columns')\n",
    "    df = df.dropna(axis='index',\n",
    "                   subset=['NPHI','DTS', 'DT']).rename({'DT':'DTC'},\n",
    "                                                       axis='columns').reset_index(drop=True).sort_values('DEPTH')\n",
    "    df['WELL'] = name\n",
    "\n",
    "    return df[f_cols]\n",
    "\n",
    "def process_test(well, cols, name):\n",
    "\n",
    "    '''\n",
    "    cleans and process the test dataframe for null values\n",
    "\n",
    "    '''\n",
    "#     column = cols[:-2]\n",
    "    if name == '15_9-F-5' or name == '15_9-F-15D':\n",
    "        column = ['NPHI', 'RHOB', 'GR', 'RT', 'DEPTH']\n",
    "        df = well.filter(column, axis='columns')\n",
    "        df = df.dropna(axis='index', subset=['NPHI']).reset_index(drop=True).sort_values('DEPTH')\n",
    "        # df_shape = df.shape\n",
    "        df['WELL'] = name\n",
    "\n",
    "        if name =='15_9-F-5':\n",
    "            df['DEPTH'] = round((df['DEPTH']*0.0254)/10, 1)\n",
    "\n",
    "        return df[f_cols[:6]]\n",
    "\n",
    "    else:\n",
    "        df = well.filter(cols, axis='columns')\n",
    "        df = df.dropna(axis='index',\n",
    "                       subset=['DTS', 'DT']).rename({'DT':'DTC'},\n",
    "                                                           axis='columns').reset_index(drop=True).sort_values('DEPTH')\n",
    "        df['WELL'] = name\n",
    "        df['NPHI'] = np.where(df['NPHI'] < 0, np.nan, df['NPHI'])\n",
    "        df = df.dropna().reset_index(drop=True)#well2\n",
    "        if name == '15_9-F-14' or name == '15_9-F-4':\n",
    "\n",
    "            df['DEPTH'] = round((df['DEPTH']*0.0254)/10, 1)\n",
    "\n",
    "\n",
    "        return df[f_cols]\n"
   ]
  },
  {
   "cell_type": "markdown",
   "id": "8UMFOCm02tMd",
   "metadata": {
    "id": "8UMFOCm02tMd"
   },
   "source": [
    "# Data Loading and Processing"
   ]
  },
  {
   "cell_type": "code",
   "execution_count": null,
   "id": "14355dcb",
   "metadata": {
    "id": "14355dcb"
   },
   "outputs": [],
   "source": [
    "# get all paths and alphabetically ordered\n",
    "# paths = sorted(glob.glob(os.path.join(\"./\", \"*.LAS\")))\n",
    "paths = ['15_9-F-11A.LAS', '15_9-F-11T2.LAS', '15_9-F-1A.LAS', '15_9-F-1B.LAS',\n",
    "         '15_9-F-4.LAS', '15_9-F-14.LAS', '15_9-F-5.LAS', '15_9-F-15D.LAS']\n",
    "well_df = [0] * 8\n",
    "\n",
    "for i in range(len(paths)):\n",
    "    # read with lasio and convert to dataframe\n",
    "    df = (lasio.read(os.path.join(\"/content/drive/My Drive/Sonic Log Prediction/data/\", paths[i]))).df()\n",
    "\n",
    "    well_df[i] = df.reset_index()\n",
    "\n",
    "well1, well2, well3, well4, well5, well6, well7, well8 = well_df"
   ]
  },
  {
   "cell_type": "code",
   "execution_count": null,
   "id": "ES8ED4cE2tMg",
   "metadata": {
    "id": "ES8ED4cE2tMg"
   },
   "outputs": [],
   "source": [
    "well1 = process_train(well1, col, name='15_9-F-11A')\n",
    "well2 = process_test(well2, col, name='15_9-F-11T2') #validation\n",
    "well3 = process_train(well3, col, name='15_9-F-1A')\n",
    "well4 = process_train(well4, col, name='15_9-F-1B')\n",
    "well5 = process_test(well5, col, name='15_9-F-4') #validation\n",
    "# well6 = process_test(well6, col, name='15_9-F-14') #blind test\n",
    "well7 = process_test(well7, col, name='15_9-F-5') #blind\n",
    "well8 = process_test(well8, col, name='15_9-F-15D') #blind"
   ]
  },
  {
   "cell_type": "code",
   "execution_count": null,
   "id": "IXUAGSjg2tMj",
   "metadata": {
    "id": "IXUAGSjg2tMj"
   },
   "outputs": [],
   "source": [
    "train = pd.concat((well1, well3, well4), axis='index').reset_index(drop=True)\n",
    "test = pd.concat((well2, well5), axis='index').reset_index(drop=True)\n",
    "test2 = pd.concat((well7, well8), axis='index').reset_index(drop=True)"
   ]
  },
  {
   "cell_type": "markdown",
   "id": "Kh-cTyNx2tMk",
   "metadata": {
    "id": "Kh-cTyNx2tMk"
   },
   "source": [
    "# Correlation Plot"
   ]
  },
  {
   "cell_type": "code",
   "execution_count": null,
   "id": "Mrw82ACS2tMm",
   "metadata": {
    "colab": {
     "base_uri": "https://localhost:8080/",
     "height": 616
    },
    "id": "Mrw82ACS2tMm",
    "outputId": "10ca22dc-1161-411f-d7e1-528761bb7894"
   },
   "outputs": [],
   "source": [
    "plt.figure(figsize=((13, 7)))\n",
    "corr = train.select_dtypes('float64').corr()\n",
    "mask_triangle=np.triu(np.ones(corr.shape)).astype(bool)\n",
    "sns.heatmap(corr, mask=mask_triangle, annot=True, cmap='Spectral')"
   ]
  },
  {
   "cell_type": "code",
   "execution_count": null,
   "id": "ba6axBH80YxY",
   "metadata": {
    "id": "ba6axBH80YxY"
   },
   "outputs": [],
   "source": [
    "from scipy.stats.stats import pearsonr\n",
    "class Correlation:\n",
    "\n",
    "    r\"\"\"\n",
    "    A correlation class for pearson and chatterjee method of statistical significance.\n",
    "\n",
    "    Parameters\n",
    "    ----------\n",
    "\n",
    "    df : pd.DataFrame\n",
    "        Takes in only the dataframe\n",
    "\n",
    "\n",
    "    \"\"\"\n",
    "    def __init__(self, dataframe:pd.DataFrame):\n",
    "\n",
    "        self._df = dataframe\n",
    "\n",
    "\n",
    "    def _chatterjee(self, x:pd.Series, y:pd.Series) -> float:\n",
    "        '''\n",
    "        A private method that implements chatterjee method\n",
    "\n",
    "        Return\n",
    "        ------\n",
    "        correlation between two variable\n",
    "        '''\n",
    "        df = pd.DataFrame()\n",
    "        df['x_rk'] = x.rank()\n",
    "        df['y_rk'] = y.rank()\n",
    "        df = df.sort_values('x_rk')\n",
    "        sum_term = df['y_rk'].diff().abs().sum()\n",
    "        chatt_corr = (1 - 3 * sum_term / (pow(df.shape[0], 2) - 1))\n",
    "\n",
    "        return chatt_corr\n",
    "\n",
    "    def corr(self, method:str='chatterjee'):\n",
    "\n",
    "        r'''\n",
    "\n",
    "        Function to calculate the linear (Pearson's) and non-linear (Chatterjee's) relationships between log curves.\n",
    "        Relationship between well logs are usually non-linear.\n",
    "\n",
    "        Parameters\n",
    "        ----------\n",
    "\n",
    "        method : str, default 'chatterjee'\n",
    "              Method of correlation. {'chatterjee', 'pearsonr', 'linear', 'nonlinear'}\n",
    "\n",
    "              * 'linear' is the same as 'pearsonr'\n",
    "              * 'nonlinear' is the same as 'chatterjee'\n",
    "\n",
    "        Returns\n",
    "        -------\n",
    "        Correlation matrix of all possible log curves combination\n",
    "\n",
    "        Example\n",
    "        -------\n",
    "         >>> corr = Correlation(df)\n",
    "         >>> v = corr.corr(method='chatterjee)\n",
    "\n",
    "        '''\n",
    "\n",
    "        self._method = method\n",
    "        X = self._df.columns.tolist()\n",
    "        Y = X.copy()\n",
    "\n",
    "        df = pd.DataFrame(index=X, columns=Y)\n",
    "\n",
    "        for i in X:\n",
    "            for j in Y:\n",
    "                if method == 'chatterjee' or method == 'nonlinear':\n",
    "                    corr = self._chatterjee(self._df[i], self._df[j])\n",
    "                    df[i][j] = corr\n",
    "                elif method=='pearsonr' or method == 'linear':\n",
    "                    self._df = self._df.dropna()\n",
    "                    corr, _ = pearsonr(self._df[i], self._df[j])\n",
    "                    df[i][j] = corr\n",
    "\n",
    "        #convert the columns to numeric from object\n",
    "        for column in df.columns:\n",
    "\n",
    "            df[column] = df[column].astype(np.float32)\n",
    "\n",
    "        return df\n",
    "\n",
    "\n",
    "    def plot_heatmap(self, title:str='Correlation Heatmap with Chatterjee', figsize:tuple=(12, 7), annot:bool=True, cmap=None):\n",
    "\n",
    "        r'''\n",
    "        Plots the heat map of Correlation Matrix\n",
    "\n",
    "        Parameters\n",
    "        ----------\n",
    "        title : str\n",
    "            Title of plot\n",
    "\n",
    "        figsize : tuple\n",
    "            Size of plot\n",
    "\n",
    "        annot : bool, default True\n",
    "            To annotate the coefficient in the plot\n",
    "\n",
    "        cmap : matplotlib colormap name or object, or list of colors, optional\n",
    "            The mapping from data values to color space\n",
    "\n",
    "        Example\n",
    "        -------\n",
    "         >>> corr = Correlation(df)\n",
    "         >>> v = corr.corr(method='chatterjee)\n",
    "         >>> corr.plot_heatmap(cmap='Reds')\n",
    "\n",
    "        '''\n",
    "\n",
    "        corr = self.corr(self._method)\n",
    "        mask_triangle=np.triu(np.ones(corr.shape)).astype(bool)\n",
    "        plt.rcParams['figure.figsize'] = figsize\n",
    "        plt.title(title)\n",
    "        sns.heatmap(corr, mask=mask_triangle, annot=annot, cmap=cmap)"
   ]
  },
  {
   "cell_type": "code",
   "execution_count": null,
   "id": "KTvEvabI08s8",
   "metadata": {
    "colab": {
     "base_uri": "https://localhost:8080/",
     "height": 622
    },
    "id": "KTvEvabI08s8",
    "outputId": "22588193-015c-43d6-b1e4-1aaef85a84c9"
   },
   "outputs": [],
   "source": [
    "corr = Correlation(train)\n",
    "v = corr.corr(method='chatterjee')\n",
    "corr.plot_heatmap('Correlation Heatmap with Chatterjee', cmap='Spectral')"
   ]
  },
  {
   "cell_type": "markdown",
   "id": "6f581890",
   "metadata": {
    "id": "6f581890"
   },
   "source": [
    "### Value trimming"
   ]
  },
  {
   "cell_type": "code",
   "execution_count": null,
   "id": "2918f7af",
   "metadata": {
    "id": "2918f7af"
   },
   "outputs": [],
   "source": [
    "wells = pd.concat((train, test), axis='index').reset_index(drop=True)\n",
    "\n",
    "wells['GR'] = np.where(wells['GR'] <= 200., wells['GR'], 200.)\n",
    "wells['RT'] = np.where(wells['RT'] <= 2000., wells['RT'], 2000.)\n",
    "# wells['NPHI'] = np.where(wells['NPHI'] <= 0.5, wells['NPHI'], 0.5)\n",
    "\n",
    "wells['RT'] = np.log10(wells['RT'])"
   ]
  },
  {
   "cell_type": "code",
   "execution_count": null,
   "id": "6d965216",
   "metadata": {
    "colab": {
     "base_uri": "https://localhost:8080/",
     "height": 300
    },
    "id": "6d965216",
    "outputId": "a38ae1be-8e87-4c9a-c34f-57564e8dda7e"
   },
   "outputs": [],
   "source": [
    "wells.describe()"
   ]
  },
  {
   "cell_type": "markdown",
   "id": "oVVM17uG2tMq",
   "metadata": {
    "id": "oVVM17uG2tMq"
   },
   "source": [
    "# Normalisation and Outlier Removal"
   ]
  },
  {
   "cell_type": "code",
   "execution_count": null,
   "id": "DJYFBv4S2tMr",
   "metadata": {
    "id": "DJYFBv4S2tMr",
    "scrolled": false
   },
   "outputs": [],
   "source": [
    "features = ['GR', 'RT', 'RHOB', 'NPHI'] # only feature column names\n",
    "target = ['DTC', 'DTS'] # only target column names\n",
    "feature_target = np.append(features, target)\n",
    "\n",
    "# normalize using power transform Yeo-Johnson method\n",
    "scaler = PowerTransformer(method='yeo-johnson')\n",
    "\n",
    "# ColumnTransformer\n",
    "ct = ColumnTransformer([('transform', scaler, features)], remainder='passthrough')\n",
    "\n",
    "# fit and transform\n",
    "new_wells = ct.fit_transform(wells)\n",
    "\n",
    "#convert to dataframe\n",
    "wells_norm = pd.DataFrame(new_wells, columns=['GR', 'RT', 'RHOB', 'NPHI', 'DEPTH', 'WELL', 'DTC', 'DTS'])\n",
    "\n",
    "#convert into correct type\n",
    "x = wells_norm[features].astype(float)\n",
    "y = wells_norm['WELL'].astype(str)\n",
    "z = wells_norm['DEPTH'].astype(float)\n",
    "\n",
    "#joining data together\n",
    "wells_norm = pd.concat([z, y, x], axis=1)\n",
    "wells_norm['DTC'] = wells.DTC\n",
    "wells_norm['DTS'] = wells.DTS"
   ]
  },
  {
   "cell_type": "code",
   "execution_count": null,
   "id": "b720699b",
   "metadata": {
    "colab": {
     "base_uri": "https://localhost:8080/",
     "height": 300
    },
    "id": "b720699b",
    "outputId": "07197a20-383f-4709-bd59-d1b1436d1ef7"
   },
   "outputs": [],
   "source": [
    "wells_norm.describe()"
   ]
  },
  {
   "cell_type": "markdown",
   "id": "96ee9174",
   "metadata": {
    "id": "96ee9174"
   },
   "source": [
    "# Split into train and test"
   ]
  },
  {
   "cell_type": "code",
   "execution_count": null,
   "id": "d04da078",
   "metadata": {
    "id": "d04da078"
   },
   "outputs": [],
   "source": [
    "train_ = wells_norm[:train.shape[0]]\n",
    "test_ = wells_norm[train.shape[0]:]\n",
    "\n",
    "train_x_ = train_[train_.columns[2:6]]\n",
    "train_y_ = train_[['DTC', 'DTS']]\n",
    "\n",
    "train_x, val_x, train_y, val_y = train_test_split(train_x_, train_y_, shuffle=True,\n",
    "                                                  test_size=0.3, random_state=2024)\n",
    "\n",
    "test_x = test_[test_.columns[2:6]]\n",
    "test_y = test_[['DTC', 'DTS']]"
   ]
  },
  {
   "cell_type": "code",
   "execution_count": null,
   "id": "LNl4TfUhoVi1",
   "metadata": {
    "colab": {
     "base_uri": "https://localhost:8080/"
    },
    "id": "LNl4TfUhoVi1",
    "outputId": "cce7bd00-ede0-43bd-924a-54e1ef5c016c"
   },
   "outputs": [],
   "source": [
    "train_x.shape, train_y.shape"
   ]
  },
  {
   "cell_type": "code",
   "execution_count": null,
   "id": "4b47519f",
   "metadata": {
    "id": "4b47519f"
   },
   "outputs": [],
   "source": [
    "test_well2_x = test_x[:well2.shape[0]]\n",
    "test_well2_y = test_y[:well2.shape[0]]\n",
    "\n",
    "test_well5_x = test_x[well2.shape[0]:]\n",
    "test_well5_y = test_y[well2.shape[0]:]"
   ]
  },
  {
   "cell_type": "code",
   "execution_count": null,
   "id": "TVWu3FJPE6sK",
   "metadata": {
    "id": "TVWu3FJPE6sK"
   },
   "outputs": [],
   "source": [
    "train_well1_x = train_x_[:well1.shape[0]]\n",
    "train_well1_y = train_y_[:well1.shape[0]]\n",
    "\n",
    "train_well3_x = train_x_[well1.shape[0]:(well1.shape[0]+well3.shape[0])]\n",
    "train_well3_y = train_y_[well1.shape[0]:(well1.shape[0]+well3.shape[0])]\n",
    "\n",
    "train_well4_x = train_x_[(well1.shape[0]+well3.shape[0]):]\n",
    "train_well4_y = train_y_[(well1.shape[0]+well3.shape[0]):]"
   ]
  },
  {
   "cell_type": "code",
   "execution_count": null,
   "id": "PLs7zEK8z2xe",
   "metadata": {
    "colab": {
     "base_uri": "https://localhost:8080/"
    },
    "id": "PLs7zEK8z2xe",
    "outputId": "463caa55-7c39-4bad-8158-b727e281a6eb"
   },
   "outputs": [],
   "source": [
    "train_well3_x.shape, well3.shape"
   ]
  },
  {
   "cell_type": "code",
   "execution_count": null,
   "id": "K0xC0ro400Zw",
   "metadata": {
    "id": "K0xC0ro400Zw"
   },
   "outputs": [],
   "source": [
    "# def interpolate_features_and_labels(features, labels, num_interpolations=3):\n",
    "#     interpolated_features = []\n",
    "#     interpolated_labels = []\n",
    "#     for i in range(features.shape[0] - 1):\n",
    "#         for _ in range(num_interpolations):\n",
    "#             alpha = np.random.uniform(0, 1)\n",
    "#             interpolated_feature = alpha * features[i] + (1 - alpha) * features[i + 1]\n",
    "#             interpolated_label = alpha * labels[i] + (1 - alpha) * labels[i + 1]\n",
    "#             interpolated_features.append(interpolated_feature)\n",
    "#             interpolated_labels.append(interpolated_label)\n",
    "#     return np.vstack(interpolated_features), np.vstack(interpolated_labels)"
   ]
  },
  {
   "cell_type": "code",
   "execution_count": null,
   "id": "mx-v_MGD01b_",
   "metadata": {
    "id": "mx-v_MGD01b_"
   },
   "outputs": [],
   "source": [
    "# def add_gaussian_noise(data, mean=0, std=0.1):\n",
    "#     noise = np.random.normal(mean, std, data.shape)\n",
    "#     augmented_data = data + noise\n",
    "#     return augmented_data\n",
    "\n"
   ]
  },
  {
   "cell_type": "code",
   "execution_count": null,
   "id": "YPQDIsWg1l3a",
   "metadata": {
    "colab": {
     "base_uri": "https://localhost:8080/"
    },
    "id": "YPQDIsWg1l3a",
    "outputId": "d3636b4a-fb08-473f-c0b3-e57697edb608"
   },
   "outputs": [],
   "source": [
    "# train_x = add_gaussian_noise(train_x)\n",
    "# train_x.shape"
   ]
  },
  {
   "cell_type": "code",
   "execution_count": null,
   "id": "PXjkyPOi4C_C",
   "metadata": {
    "colab": {
     "base_uri": "https://localhost:8080/",
     "height": 424
    },
    "id": "PXjkyPOi4C_C",
    "outputId": "79a85926-b3eb-4582-810d-343e54cae60b"
   },
   "outputs": [],
   "source": [
    "train_x"
   ]
  },
  {
   "cell_type": "markdown",
   "id": "eb6fe660",
   "metadata": {
    "id": "eb6fe660"
   },
   "source": [
    "# Convolutional Neural Network Architecture"
   ]
  },
  {
   "cell_type": "code",
   "execution_count": null,
   "id": "acLbA2L0Uoai",
   "metadata": {
    "id": "acLbA2L0Uoai"
   },
   "outputs": [],
   "source": [
    "# from torch.utils.data import Dataset\n",
    "# from torch.utils.data.sampler import SubsetRandomSampler\n",
    "\n",
    "# class LogDataset(Dataset):\n",
    "#     def __init__(self, x, y):\n",
    "#         self.x = torch.from_numpy(x.values)\n",
    "#         self.y = torch.from_numpy(y.values)\n",
    "\n",
    "#     def __len__(self):\n",
    "#         return len(self.x)\n",
    "\n",
    "#     def __getitem__(self, idx):\n",
    "#         x = self.x[idx]\n",
    "#         y = self.y[idx]\n",
    "\n",
    "#         return x, y\n",
    "\n",
    "# def dloader(x, y, bs=64, split='train', val_size=0.3):\n",
    "\n",
    "#     tensor = LogDataset(x, y)\n",
    "\n",
    "#     # obtain training indices that will be used for validation\n",
    "#     num_train = len(tensor)\n",
    "#     indices = list(range(num_train))\n",
    "#     np.random.shuffle(indices)\n",
    "#     split = int(np.floor(val_size * num_train))\n",
    "#     train_idx, val_idx = indices[split:], indices[:split]\n",
    "\n",
    "#     # define samplers for obtaining training and validation batches\n",
    "\n",
    "#     if split=='train':\n",
    "#         loader = DataLoader(tensor, bs,\n",
    "#                             sampler=SubsetRandomSampler(train_idx),\n",
    "#                             num_workers=0)\n",
    "#         return loader\n",
    "\n",
    "#     elif split=='val':\n",
    "#         loader = DataLoader(tensor, bs,\n",
    "#                             sampler=SubsetRandomSampler(val_idx),\n",
    "#                             num_workers=0)\n",
    "#         return loader\n",
    "\n",
    "# def dataloader(x, y, bs=64, split='train', val_size=0.3):\n",
    "\n",
    "#     inputs = torch.from_numpy(x.values).cuda().float()\n",
    "#     outputs = torch.from_numpy(y.values).cuda().float()\n",
    "#     tensor = TensorDataset(inputs, outputs)\n",
    "\n",
    "#     # obtain training indices that will be used for validation\n",
    "#     num_train = len(tensor)\n",
    "#     indices = list(range(num_train))\n",
    "#     np.random.shuffle(indices)\n",
    "#     split = int(np.floor(val_size * num_train))\n",
    "#     train_idx, val_idx = indices[split:], indices[:split]\n",
    "#     # define samplers for obtaining training and validation batches\n",
    "\n",
    "#     train_sampler = SubsetRandomSampler(train_idx)\n",
    "#     valid_sampler = SubsetRandomSampler(val_idx)\n",
    "\n",
    "#     if split=='train':\n",
    "#         loader = DataLoader(tensor, bs,\n",
    "#                             sampler=train_sampler,\n",
    "#                             num_workers=1)\n",
    "#         return loader\n",
    "\n",
    "#     elif split=='val':\n",
    "#         loader = DataLoader(tensor, bs,\n",
    "#                             sampler=valid_sampler,\n",
    "#                             num_workers=1)\n",
    "#         return loader"
   ]
  },
  {
   "cell_type": "code",
   "execution_count": null,
   "id": "WCYPGZMxk8ay",
   "metadata": {
    "id": "WCYPGZMxk8ay"
   },
   "outputs": [],
   "source": [
    "def dataloader(x, y, bs=64):\n",
    "\n",
    "    inputs = torch.from_numpy(x.values).cuda().float()\n",
    "    outputs = torch.from_numpy(y.values).cuda().float()\n",
    "    tensor = TensorDataset(inputs, outputs)\n",
    "\n",
    "    loader = DataLoader(tensor, bs, shuffle=True, drop_last=True)\n",
    "\n",
    "    return loader"
   ]
  },
  {
   "cell_type": "code",
   "execution_count": null,
   "id": "UEHbkwbXcQAN",
   "metadata": {
    "id": "UEHbkwbXcQAN"
   },
   "outputs": [],
   "source": [
    "trainloader = dataloader(train_x, train_y)\n",
    "valloader = dataloader(val_x, val_y)\n",
    "testloader = dataloader(test_x, test_y)"
   ]
  },
  {
   "cell_type": "code",
   "execution_count": null,
   "id": "xG4XusHNQ6Et",
   "metadata": {
    "id": "xG4XusHNQ6Et"
   },
   "outputs": [],
   "source": [
    "class Log1DNetv2(nn.Module):\n",
    "\n",
    "    def __init__(self, n_features:int=4, batch_size:int=64, n_outputs:int=2):\n",
    "        super(Log1DNetv2, self).__init__()\n",
    "        self.features = n_features\n",
    "        self.bs = batch_size\n",
    "        self.outputs = n_outputs\n",
    "\n",
    "        self.conv1 = nn.Sequential(\n",
    "            nn.Conv1d(n_features, batch_size, kernel_size=1),\n",
    "            nn.BatchNorm1d(batch_size),\n",
    "            nn.ReLU(),\n",
    "            # nn.Dropout(0.5),\n",
    "            nn.AvgPool1d(1),\n",
    "        )\n",
    "        self.conv2 = nn.Sequential(\n",
    "            nn.Conv1d(batch_size, batch_size*2, kernel_size=1),\n",
    "            nn.BatchNorm1d(batch_size*2),\n",
    "            nn.ReLU(),\n",
    "            # nn.Dropout(0.5)\n",
    "        )\n",
    "        self.conv3 = nn.Sequential(\n",
    "            nn.Conv1d(batch_size*2, batch_size*3, kernel_size=1),\n",
    "            nn.BatchNorm1d(batch_size*3),\n",
    "            nn.ReLU(),\n",
    "        )\n",
    "        self.conv4 = nn.Sequential(\n",
    "            nn.Conv1d(batch_size*3, batch_size, kernel_size=1),\n",
    "            nn.BatchNorm1d(batch_size),\n",
    "            nn.ReLU(),\n",
    "        )\n",
    "        self.flat = nn.Flatten()\n",
    "        self.layer = nn.Sequential(\n",
    "            nn.Linear(64, 64),\n",
    "            nn.ReLU (),\n",
    "        )\n",
    "        self.output = nn.Sequential(\n",
    "            nn.Linear(64, 2)\n",
    "        )\n",
    "\n",
    "    def forward(self, x):\n",
    "        x = x.reshape(self.bs, self.features, 1)\n",
    "        out = self.conv1(x)\n",
    "        out = self.conv2(out)\n",
    "        out = self.conv3(out)\n",
    "        out = self.conv4(out)\n",
    "        out = self.flat(out)\n",
    "        out = self.layer(out)\n",
    "        out = self.output(out)\n",
    "\n",
    "        return out\n",
    "\n",
    "class Log1DNetv3(nn.Module):\n",
    "\n",
    "    def __init__(self, n_features:int=4, batch_size:int=64, n_outputs:int=2):\n",
    "        super(Log1DNetv3, self).__init__()\n",
    "        self.features = n_features\n",
    "        self.bs = batch_size\n",
    "        self.outputs = n_outputs\n",
    "\n",
    "        self.conv1 = nn.Sequential(\n",
    "            nn.Conv1d(n_features, batch_size, kernel_size=1),\n",
    "            nn.BatchNorm1d(batch_size),\n",
    "            nn.ReLU(),\n",
    "            # nn.Dropout(0.5),\n",
    "            nn.AvgPool1d(1),\n",
    "        )\n",
    "        self.conv2 = nn.Sequential(\n",
    "            nn.Conv1d(batch_size, batch_size*2, kernel_size=1),\n",
    "            nn.BatchNorm1d(batch_size*2),\n",
    "            nn.ReLU(),\n",
    "            nn.Dropout(0.5),\n",
    "            nn.AvgPool1d(1),\n",
    "        )\n",
    "        self.conv3 = nn.Sequential(\n",
    "            nn.Conv1d(batch_size*2, batch_size*4, kernel_size=1),\n",
    "            nn.BatchNorm1d(batch_size*4),\n",
    "            nn.Dropout(0.5),\n",
    "            nn.ReLU(),\n",
    "        )\n",
    "        self.conv4 = nn.Sequential(\n",
    "            nn.Conv1d(batch_size*4, batch_size, kernel_size=1),\n",
    "            nn.BatchNorm1d(batch_size),\n",
    "            nn.ReLU(),\n",
    "        )\n",
    "        self.flat = nn.Flatten()\n",
    "        self.layer = nn.Sequential(\n",
    "            nn.Linear(64, 64),\n",
    "            nn.ReLU (),\n",
    "        )\n",
    "        self.output = nn.Sequential(\n",
    "            nn.Linear(64, 2)\n",
    "        )\n",
    "\n",
    "    def forward(self, x):\n",
    "        x = x.reshape(self.bs, self.features, 1)\n",
    "        out = self.conv1(x)\n",
    "        out = self.conv2(out)\n",
    "        out = self.conv3(out)\n",
    "        out = self.conv4(out)\n",
    "        out = self.flat(out)\n",
    "        out = self.layer(out)\n",
    "        out = self.output(out)\n",
    "\n",
    "        return out"
   ]
  },
  {
   "cell_type": "code",
   "execution_count": null,
   "id": "NPKOBu3fKC_y",
   "metadata": {
    "id": "NPKOBu3fKC_y"
   },
   "outputs": [],
   "source": []
  },
  {
   "cell_type": "code",
   "execution_count": null,
   "id": "9PB0COiBkUAr",
   "metadata": {
    "id": "9PB0COiBkUAr"
   },
   "outputs": [],
   "source": [
    "def criterion(model:Log1DNetv2, dataloader:DataLoader, train:bool=False, optimizer:Adam=None):\n",
    "    dtc_loss, dts_loss = MSELoss(), MSELoss()\n",
    "    dtc_score, dts_score = R2Score(), R2Score()#.to('cuda:0')\n",
    "\n",
    "    dtc_avg_loss = 0; dtc_avg_score = 0\n",
    "    dts_avg_loss = 0; dts_avg_score = 0\n",
    "\n",
    "    count = 0\n",
    "\n",
    "    for input, output in iter(dataloader):\n",
    "        predictions = model(input)\n",
    "        #dtc\n",
    "        dtc_loss_ = torch.sqrt(dtc_loss(predictions[:, 0], output[:, 0]))\n",
    "        dtc_score.update([predictions[:, 0], output[:, 0]])\n",
    "        dtc_score_ = dtc_score.compute()\n",
    "\n",
    "        #dts\n",
    "        dts_loss_ = torch.sqrt(dts_loss(predictions[:, 1], output[:, 1]))\n",
    "        dts_score.update([predictions[:, 1], output[:, 1]])\n",
    "        dts_score_ = dts_score.compute()\n",
    "\n",
    "        if train:\n",
    "            optimizer.zero_grad()\n",
    "            dtc_loss_.backward(retain_graph=True)\n",
    "            dts_loss_.backward()\n",
    "            optimizer.step()\n",
    "\n",
    "        dtc_avg_loss += dtc_loss_.item()\n",
    "        dtc_avg_score += dtc_score_\n",
    "\n",
    "        dts_avg_loss += dts_loss_.item()\n",
    "        dts_avg_score += dts_score_\n",
    "\n",
    "        count += 1\n",
    "\n",
    "    return dtc_avg_loss/count, dtc_avg_score/count, dts_avg_loss/count, dts_avg_score/count\n",
    "\n"
   ]
  },
  {
   "cell_type": "code",
   "execution_count": null,
   "id": "ziyN6i0v2uWW",
   "metadata": {
    "id": "ziyN6i0v2uWW"
   },
   "outputs": [],
   "source": [
    "EPOCHS = 200\n",
    "BATCH_SIZE = 64"
   ]
  },
  {
   "cell_type": "code",
   "execution_count": null,
   "id": "lgffLeuBlf-g",
   "metadata": {
    "colab": {
     "base_uri": "https://localhost:8080/",
     "height": 1000,
     "referenced_widgets": [
      "594e60ddcab74823a239b7870a256c8f",
      "204156b9b63846a29a7c6a04dc2c21d1",
      "e38f235b87ab4fa8b36312ba6caa2295",
      "2de1e24dd1084c159f0aa87f191728d9",
      "38747b26031a4168b57d1d43d7200c3b",
      "1ea8c65b27814838bfec631959d5b582",
      "de36d58572d5406d81bb58750d0c27e7",
      "5ac125ce2e7244e380f681147421aa1c",
      "63f38f6ae20e42a3a2b78b6211928521",
      "7e33867225bf46c1b2ff33338e66f044",
      "33991d5c5d3d439282592b49dd5cb4a6"
     ]
    },
    "id": "lgffLeuBlf-g",
    "outputId": "28b3ffdc-8a9f-4bd7-bb0f-41e5b3f20254"
   },
   "outputs": [],
   "source": [
    "def main(model:Log1DNetv2, trainloader:DataLoader, testloader:DataLoader):\n",
    "    train_dtc_loss, train_dtc_score, train_dts_loss, train_dts_score = list(), list(), list(), list()\n",
    "    val_dtc_loss, val_dtc_score, val_dts_loss, val_dts_score = list(), list(), list(), list()\n",
    "\n",
    "    optimizer = Adam(model.parameters(), lr=1e-1)\n",
    "\n",
    "    best_val_loss = Inf\n",
    "\n",
    "    for epoch in tqdm(range(EPOCHS)):\n",
    "        tn_dtc_avg_loss, tn_dtc_avg_score, tn_dts_avg_loss, tn_dts_avg_score = criterion(model, trainloader, train=True, optimizer=optimizer)\n",
    "        tt_dtc_avg_loss, tt_dtc_avg_score, tt_dts_avg_loss, tt_dts_avg_score = criterion(model, testloader, train=False, optimizer=optimizer)\n",
    "        #train\n",
    "        train_dtc_loss.append(tn_dtc_avg_loss); train_dtc_score.append(tn_dtc_avg_score)\n",
    "        train_dts_loss.append(tn_dts_avg_loss); train_dts_score.append(tn_dts_avg_score)\n",
    "        #val\n",
    "        val_dtc_loss.append(tt_dtc_avg_loss); val_dtc_score.append(tt_dtc_avg_score)\n",
    "        val_dts_loss.append(tt_dts_avg_loss); val_dts_score.append(tt_dts_avg_score)\n",
    "\n",
    "        if (tt_dtc_avg_loss+tt_dts_avg_loss) < best_val_loss:\n",
    "            torch.save(model.state_dict(), 'best_model.pt')\n",
    "            print('Model Saved')\n",
    "\n",
    "            best_val_loss = tt_dtc_avg_loss+tt_dts_avg_loss\n",
    "\n",
    "        print(f'Epoch {epoch+1} Train: DTC Loss={tn_dtc_avg_loss:.4f} | DTC Score={tn_dtc_avg_score:.4f} | DTS Loss={tn_dts_avg_loss:.4f} | DTS Score={tn_dts_avg_score:.4f}')\n",
    "        print(f'Epoch {epoch+1} Val: DTC Loss={tt_dtc_avg_loss:.4f} | DTC Score={tt_dtc_avg_score:.4f} | DTS Loss={tt_dts_avg_loss:.4f} | DTS Score={tt_dts_avg_score:.4f}')\n",
    "        print()\n",
    "\n",
    "\n",
    "    return train_dtc_loss, train_dtc_score, train_dts_loss, train_dts_score, val_dtc_loss, val_dtc_score, val_dts_loss, val_dts_score\n",
    "\n",
    "model = Log1DNetv3()\n",
    "\n",
    "print(model.cuda())\n",
    "\n",
    "random_seed = 9898\n",
    "torch.manual_seed(random_seed)\n",
    "if torch.cuda.is_available():\n",
    "    torch.cuda.manual_seed(random_seed)\n",
    "    torch.backends.cudnn.deterministic = True\n",
    "    torch.backends.cudnn.benchmark = False\n",
    "np.random.seed(random_seed)\n",
    "\n",
    "train_dtc_loss, train_dtc_score, train_dts_loss, train_dts_score,\\\n",
    " val_dtc_loss, val_dtc_score, val_dts_loss, val_dts_score = main(model, trainloader, valloader)"
   ]
  },
  {
   "cell_type": "code",
   "execution_count": null,
   "id": "pr_oUYr0kS1U",
   "metadata": {
    "id": "pr_oUYr0kS1U"
   },
   "outputs": [],
   "source": []
  },
  {
   "cell_type": "code",
   "execution_count": null,
   "id": "3FpiwFMZwQBC",
   "metadata": {
    "colab": {
     "base_uri": "https://localhost:8080/",
     "height": 1000
    },
    "id": "3FpiwFMZwQBC",
    "outputId": "c0699d0b-f605-4d87-b260-3d77e7cb3562"
   },
   "outputs": [],
   "source": [
    "# Creating subplots\n",
    "fig, axs = plt.subplots(2, 2, figsize=(30, 15))\n",
    "epochs_range = range(len(train_dtc_loss))\n",
    "\n",
    "# Plotting for subplot 1\n",
    "axs[0, 0].plot(epochs_range, train_dtc_score, color='tab:blue')\n",
    "axs[0, 0].set_ylabel('R2 Score', color='tab:blue')\n",
    "axs[0, 0].tick_params(axis='y', labelcolor='tab:blue')\n",
    "axs[0, 0].set_xlabel('No. of Iterations')\n",
    "\n",
    "axs2_1 = axs[0, 0].twinx()\n",
    "axs2_1.plot(epochs_range, train_dtc_loss, color='tab:red')\n",
    "axs2_1.set_ylabel('Root Mean Squared Error', color='tab:red')\n",
    "axs2_1.tick_params(axis='y', labelcolor='tab:red')\n",
    "axs2_1.set_xlabel('No of iterations')\n",
    "axs[0, 0].set_title('Train DTC Score and Loss')\n",
    "\n",
    "# Plotting for subplot 2\n",
    "axs[0, 1].plot(epochs_range, train_dts_score, color='tab:blue',)\n",
    "axs[0, 1].set_ylabel('R2 Score', color='tab:blue')\n",
    "axs[0, 1].tick_params(axis='y', labelcolor='tab:blue')\n",
    "axs[0, 1].set_xlabel('No. of Iterations')\n",
    "\n",
    "axs2_2 = axs[0, 1].twinx()\n",
    "axs2_2.plot(epochs_range, train_dts_loss, color='tab:red')\n",
    "axs2_2.set_ylabel('Root Mean Squared Error', color='tab:red')\n",
    "axs2_2.tick_params(axis='y', labelcolor='tab:red')\n",
    "axs2_2.set_xlabel('No of iterations')\n",
    "axs[0, 1].set_title('Train DTS Score and Loss')\n",
    "\n",
    "# Plotting for subplot 3\n",
    "axs[1, 0].plot(epochs_range, val_dtc_score, color='tab:blue')\n",
    "axs[1, 0].set_ylabel('R2 Score', color='tab:blue')\n",
    "axs[1, 0].tick_params(axis='y', labelcolor='tab:blue')\n",
    "axs[1, 0].set_xlabel('No. of Iterations')\n",
    "\n",
    "axs2_3 = axs[1, 0].twinx()\n",
    "axs2_3.plot(epochs_range, val_dtc_loss, color='tab:red')\n",
    "axs2_3.set_ylabel('Root Mean Squared Error', color='tab:red')\n",
    "axs2_3.tick_params(axis='y', labelcolor='tab:red')\n",
    "axs2_3.set_xlabel('No of iterations')\n",
    "axs[1, 0].set_title('Validation DTC Score and Loss')\n",
    "\n",
    "# Plotting for subplot 4\n",
    "axs[1, 1].plot(epochs_range, val_dts_score, color='tab:blue')\n",
    "axs[1, 1].set_ylabel('R2 Score', color='tab:blue')\n",
    "axs[1, 1].tick_params(axis='y', labelcolor='tab:blue')\n",
    "axs[1, 1].set_xlabel('No. of Iterations')\n",
    "\n",
    "axs2_4 = axs[1, 1].twinx()\n",
    "axs2_4.plot(epochs_range, val_dts_loss, color='tab:red')\n",
    "axs2_4.set_ylabel('Root Mean Squared Error', color='tab:red')\n",
    "axs2_4.tick_params(axis='y', labelcolor='tab:red')\n",
    "axs2_4.set_xlabel('No of iterations')\n",
    "axs[1, 1].set_title('Validation DTS Score and Loss')\n",
    "\n",
    "plt.show()"
   ]
  },
  {
   "cell_type": "code",
   "execution_count": null,
   "id": "Y1upx1xa254B",
   "metadata": {
    "colab": {
     "base_uri": "https://localhost:8080/",
     "height": 1000
    },
    "id": "Y1upx1xa254B",
    "outputId": "4dcd706d-0536-44a6-e2c7-4bd1009d7c05"
   },
   "outputs": [],
   "source": [
    "epochs_range = range(len(train_dtc_loss))\n",
    "\n",
    "plt.figure(figsize=(30, 8))\n",
    "plt.subplot(1, 2, 1)\n",
    "plt.plot(epochs_range, train_dtc_score, label='Training Accuracy (DTC)')\n",
    "plt.plot(epochs_range, val_dtc_score, label='Validation Accuracy (DTC)')\n",
    "plt.legend(loc='lower right')\n",
    "plt.xlabel('No of Iterations')\n",
    "plt.ylabel('Accuracy')\n",
    "plt.title('Training and Validation Accuracy')\n",
    "\n",
    "plt.subplot(1, 2, 2)\n",
    "plt.plot(epochs_range, train_dtc_loss, label='Training Loss (DTC)')\n",
    "plt.plot(epochs_range, val_dtc_loss, label='Validation Loss (DTC)')\n",
    "plt.legend(loc='upper right')\n",
    "plt.xlabel('No of Iterations')\n",
    "plt.ylabel('Root Mean Squared Error')\n",
    "plt.title('Training and Validation Loss')\n",
    "\n",
    "plt.show()\n",
    "\n",
    "plt.figure(figsize=(30, 8))\n",
    "plt.subplot(1, 2, 1)\n",
    "plt.plot(epochs_range, train_dts_score, label='Training Accuracy (DTS)')\n",
    "plt.plot(epochs_range, val_dts_score, label='Validation Accuracy (DTS)')\n",
    "plt.legend(loc='lower right')\n",
    "plt.xlabel('No of Iterations')\n",
    "plt.ylabel('Accuracy')\n",
    "plt.title('Training and Validation Accuracy')\n",
    "\n",
    "plt.subplot(1, 2, 2)\n",
    "plt.plot(epochs_range, train_dts_loss, label='Training Loss (DTS)')\n",
    "plt.plot(epochs_range, val_dts_loss, label='Validation Loss (DTS)')\n",
    "plt.legend(loc='upper right')\n",
    "plt.xlabel('No of Iterations')\n",
    "plt.ylabel('Root Mean Squared Error')\n",
    "plt.title('Training and Validation Loss')\n",
    "\n",
    "plt.show()\n"
   ]
  },
  {
   "cell_type": "code",
   "execution_count": null,
   "id": "MBLSEUJsmui2",
   "metadata": {
    "id": "MBLSEUJsmui2"
   },
   "outputs": [],
   "source": [
    "def load_model(modelpath:str='/content/best_model.pt'):\n",
    "\n",
    "    device = 'cuda:0' if torch.cuda.is_available() else 'cpu'\n",
    "    model = Log1DNetv3().to(device)\n",
    "    model.load_state_dict(torch.load(modelpath))\n",
    "\n",
    "    return model\n",
    "\n",
    "\n",
    "def predict_logs(x, y, original_df):\n",
    "    model = load_model()\n",
    "\n",
    "    inputs = torch.from_numpy(x.values).cuda().float()\n",
    "    outputs = torch.from_numpy(y.values).cuda().float()\n",
    "\n",
    "    dtcs = []; dtss = []\n",
    "    model.eval()\n",
    "    for i in range(inputs.shape[0]):\n",
    "        with torch.inference_mode():\n",
    "            pred = model(inputs[i].unsqueeze(0).repeat(64, 1, 1))\n",
    "            dtc = pred[0][0]; dts = pred[0][1]\n",
    "            dtcs.append(dtc.cpu().numpy()); dtss.append(dts.cpu().numpy())\n",
    "\n",
    "    df = original_df.copy()\n",
    "    df['Predicted DTC'] = np.array(dtcs).astype(float)\n",
    "    df['Predicted DTS'] = np.array(dtss).astype(float)\n",
    "\n",
    "    return df"
   ]
  },
  {
   "cell_type": "code",
   "execution_count": null,
   "id": "y2HE0DPRrKOe",
   "metadata": {
    "id": "y2HE0DPRrKOe"
   },
   "outputs": [],
   "source": [
    "def make_log_plot(logs, x1, x2, x3, x4, x5, x6, x7, x8, well_name):\n",
    "\n",
    "    \"\"\"\n",
    "    DESC: Displays log plot\n",
    "    args::\n",
    "        logs: dataframe\n",
    "        x1: GR\n",
    "        x2: RT\n",
    "        x3: NPHI\n",
    "        x4: RHOB\n",
    "        x5: CALI\n",
    "        x6: DTC\n",
    "        x7: DTS\n",
    "        well_name: str\n",
    "    Returns plots\n",
    "\n",
    "    \"\"\"\n",
    "\n",
    "    ztop = logs['DEPTH'].min(); zbot=logs['DEPTH'].max()\n",
    "\n",
    "    #defining plot figure\n",
    "    f, ax = plt.subplots(nrows=1, ncols=5, figsize=(12, 12), sharey=True)\n",
    "    ax[0].set_ylabel(\"DEPTH(m)\")\n",
    "    f.suptitle(f'Well - {well_name}', fontsize=20, y=1.02)\n",
    "\n",
    "    #for gamma ray track\n",
    "    ax[0].minorticks_on()\n",
    "    ax[0].grid(which='major', linestyle='-', linewidth=1, color='darkgrey')\n",
    "    ax[0].yaxis.grid(which='minor', linestyle='-', linewidth=0.5, color='lightgrey')\n",
    "    ax[0].plot(logs[x1], logs['DEPTH'], '-g')\n",
    "    ax[0].set_xlim(0, 200)#logs[x1].min(), logs[x1].max())\n",
    "    ax[0].set_xlabel('GR(gAPI)', fontsize=12)\n",
    "    ax[0].xaxis.label.set_color('green')\n",
    "    ax[0].tick_params(axis='x', colors='green')\n",
    "    ax[0].spines['top'].set_edgecolor('green')\n",
    "    ax[0].spines[\"top\"].set_position((\"axes\", 1.02))\n",
    "    ax[0].set_ylim(ztop, zbot)\n",
    "    ax[0].xaxis.set_ticks_position(\"top\")\n",
    "    ax[0].xaxis.set_label_position(\"top\")\n",
    "    ax[0].invert_yaxis()\n",
    "\n",
    "\n",
    "    #for resitivity log\n",
    "    ax[1].minorticks_on()\n",
    "    ax[1].grid(which='major', linestyle='-', linewidth=1.0, color='darkgrey')\n",
    "    ax[1].grid(which='minor', linestyle='-', linewidth=0.5, color='lightgrey')\n",
    "    ax[1].plot(logs[x2], logs['DEPTH'], '-r')\n",
    "    ax[1].set_xlim(0.2, 2000)\n",
    "    ax[1].set_xlabel('RT(ohm-m)', fontsize=12)\n",
    "    ax[1].xaxis.label.set_color('red')\n",
    "    ax[1].tick_params(axis='x', colors='red')\n",
    "    ax[1].spines['top'].set_edgecolor('red')\n",
    "    ax[1].spines[\"top\"].set_position((\"axes\", 1.02))\n",
    "    ax[1].set_ylim(ztop, zbot)\n",
    "    ax[1].xaxis.set_ticks_position(\"top\")\n",
    "    ax[1].xaxis.set_label_position(\"top\")\n",
    "    ax[1].invert_yaxis()\n",
    "    ax[1].set_xscale(\"log\")\n",
    "\n",
    "    #for neutron porosity\n",
    "    ax[2].minorticks_on()\n",
    "    ax[2].yaxis.grid(which='major', linestyle='-', linewidth=1, color='darkgrey')\n",
    "    ax[2].yaxis.grid(which='minor', linestyle='-', linewidth=0.5, color='lightgrey')\n",
    "    ax[2].set_xticklabels([]);ax[2].set_xticks([])\n",
    "    rhob_ = ax[2].twiny()\n",
    "    rhob_.plot(logs[x3], logs['DEPTH'], '-b')\n",
    "    rhob_.set_xlim(logs[x3].min(), logs[x3].max())\n",
    "    rhob_.set_xlabel('NPHI(v/v)', fontsize=12)\n",
    "    rhob_.xaxis.label.set_color('blue')\n",
    "    rhob_.tick_params(axis='x', colors='blue')\n",
    "    rhob_.spines['top'].set_edgecolor('blue')\n",
    "    rhob_.spines[\"top\"].set_position((\"axes\", 1.02))\n",
    "    rhob_.set_ylim(ztop, zbot)\n",
    "    rhob_.xaxis.set_ticks_position(\"top\")\n",
    "    rhob_.xaxis.set_label_position(\"top\")\n",
    "    rhob_.invert_yaxis()\n",
    "    rhob_.invert_xaxis()\n",
    "\n",
    "    #for bulk density\n",
    "    nphi_ = ax[2].twiny()\n",
    "    nphi_.grid(which='major', linestyle='-', linewidth=0.5, color='darkgrey')\n",
    "    nphi_.plot(logs[x4], logs['DEPTH'], '-r')\n",
    "    nphi_.set_xlim(logs[x4].min(), logs[x4].max())\n",
    "    nphi_.set_xlabel('RHOB(g/cm3)', fontsize=12)\n",
    "    nphi_.xaxis.label.set_color('red')\n",
    "    nphi_.tick_params(axis='x', colors='red')\n",
    "    nphi_.spines['top'].set_edgecolor('red')\n",
    "    nphi_.spines[\"top\"].set_position((\"axes\", 1.07))\n",
    "    nphi_.set_ylim(ztop, zbot)\n",
    "    nphi_.xaxis.set_ticks_position(\"top\")\n",
    "    nphi_.xaxis.set_label_position(\"top\")\n",
    "    nphi_.invert_yaxis()\n",
    "\n",
    "\n",
    "    #for DTC\n",
    "    ax[3].minorticks_on()\n",
    "    ax[3].yaxis.grid(which='major', linestyle='-', linewidth=1, color='darkgrey')\n",
    "    ax[3].yaxis.grid(which='minor', linestyle='-', linewidth=0.5, color='lightgrey')\n",
    "    ax[3].set_xticklabels([]);ax[3].set_xticks([])\n",
    "    dtc_ = ax[3].twiny()\n",
    "    dtc_.plot(logs[x5], logs['DEPTH'], '-', c='purple')\n",
    "    dtc_.set_xlim(40, 240)\n",
    "    dtc_.set_xlabel('True DTC(us/ft)', fontsize=12)\n",
    "    dtc_.xaxis.label.set_color('purple')\n",
    "    dtc_.tick_params(axis='x', colors='purple')\n",
    "    dtc_.spines['top'].set_edgecolor('purple')\n",
    "    dtc_.spines[\"top\"].set_position((\"axes\", 1.02))\n",
    "    dtc_.set_ylim(ztop, zbot)\n",
    "    dtc_.xaxis.set_ticks_position(\"top\")\n",
    "    dtc_.xaxis.set_label_position(\"top\")\n",
    "    dtc_.invert_yaxis()\n",
    "\n",
    "\n",
    "    #for predicted DTC\n",
    "    dts_ = ax[3].twiny()\n",
    "    dts_.grid(which='major', linestyle='-', linewidth=0.5, color='darkgrey')\n",
    "    dts_.plot(logs[x6], logs['DEPTH'], '-', c='black')\n",
    "    dts_.set_xlim(40, 240)\n",
    "    dts_.set_xlabel('Predicted DTC(us/ft)', fontsize=12)\n",
    "    dts_.xaxis.label.set_color('black')\n",
    "    dts_.tick_params(axis='x', colors='black')\n",
    "    dts_.spines['top'].set_edgecolor('black')\n",
    "    dts_.spines[\"top\"].set_position((\"axes\", 1.07))\n",
    "    dts_.set_ylim(ztop, zbot)\n",
    "    dts_.xaxis.set_ticks_position(\"top\")\n",
    "    dts_.xaxis.set_label_position(\"top\")\n",
    "    dts_.invert_yaxis()\n",
    "\n",
    "\n",
    "    #for DTS\n",
    "    ax[4].minorticks_on()\n",
    "    ax[4].yaxis.grid(which='major', linestyle='-', linewidth=1, color='darkgrey')\n",
    "    ax[4].yaxis.grid(which='minor', linestyle='-', linewidth=0.5, color='lightgrey')\n",
    "    ax[4].set_xticklabels([]);ax[4].set_xticks([])\n",
    "    true = ax[4].twiny()\n",
    "    true.plot(logs[x7], logs['DEPTH'], '-', c='purple')\n",
    "    true.set_xlim(80, 380)\n",
    "    true.set_xlabel('True DTS(us/ft)', fontsize=12)\n",
    "    true.xaxis.label.set_color('purple')\n",
    "    true.tick_params(axis='x', colors='purple')\n",
    "    true.spines['top'].set_edgecolor('purple')\n",
    "    true.spines[\"top\"].set_position((\"axes\", 1.02))\n",
    "    true.set_ylim(ztop, zbot)\n",
    "    true.xaxis.set_ticks_position(\"top\")\n",
    "    true.xaxis.set_label_position(\"top\")\n",
    "    true.invert_yaxis()\n",
    "\n",
    "\n",
    "    #for predicted DTS\n",
    "    pred = ax[4].twiny()\n",
    "    pred.grid(which='major', linestyle='-', linewidth=0.5, color='darkgrey')\n",
    "    pred.plot(logs[x8], logs['DEPTH'], '-', c='black')\n",
    "    pred.set_xlim(80, 380)\n",
    "    pred.set_xlabel('Predicted DTS(us/ft)', fontsize=12)\n",
    "    pred.xaxis.label.set_color('black')\n",
    "    pred.tick_params(axis='x', colors='black')\n",
    "    pred.spines['top'].set_edgecolor('black')\n",
    "    pred.spines[\"top\"].set_position((\"axes\", 1.07))\n",
    "    pred.set_ylim(ztop, zbot)\n",
    "    pred.xaxis.set_ticks_position(\"top\")\n",
    "    pred.xaxis.set_label_position(\"top\")\n",
    "    pred.invert_yaxis()\n",
    "\n",
    "    plt.tight_layout(h_pad=1)\n",
    "    # plt.tight_layout(h_pad=1)\n",
    "    f.subplots_adjust(wspace=0.0)\n",
    "\n",
    "\n",
    "    if well_name == '15_9-F-11A': f.savefig('15_9-F-11A.png')\n",
    "    elif well_name == '15_9-F-11T2': f.savefig('15_9-F-11T2.png')\n",
    "    elif well_name == '15_9-F-1A': f.savefig('15_9-F-1A.png')\n",
    "    elif well_name == '15_9-F-1B': f.savefig('15_9-F-1B.png')\n",
    "    elif well_name == '15_9-F-4': f.savefig('15_9-F-4.png')"
   ]
  },
  {
   "cell_type": "markdown",
   "id": "-Lb3ef2-I56m",
   "metadata": {
    "id": "-Lb3ef2-I56m"
   },
   "source": [
    "# Well 2"
   ]
  },
  {
   "cell_type": "code",
   "execution_count": null,
   "id": "E9MEDdifHoxp",
   "metadata": {
    "id": "E9MEDdifHoxp"
   },
   "outputs": [],
   "source": [
    "well2_new = predict_logs(test_well2_x, test_well2_y, well2)"
   ]
  },
  {
   "cell_type": "code",
   "execution_count": null,
   "id": "fzriNY0OmvaL",
   "metadata": {
    "colab": {
     "base_uri": "https://localhost:8080/"
    },
    "id": "fzriNY0OmvaL",
    "outputId": "4f1a433b-c504-4e51-8d35-adfdcc77a3ec"
   },
   "outputs": [],
   "source": [
    "print(r2_score(well2_new['DTS'], well2_new['Predicted DTS']))\n",
    "print(sqrt(mean_squared_error(well2_new['DTS'], well2_new['Predicted DTS'])))"
   ]
  },
  {
   "cell_type": "code",
   "execution_count": null,
   "id": "b3JDPGdG8N5E",
   "metadata": {
    "colab": {
     "base_uri": "https://localhost:8080/"
    },
    "id": "b3JDPGdG8N5E",
    "outputId": "614fd043-c69c-46b5-f5b9-c4387fb7c9aa"
   },
   "outputs": [],
   "source": [
    "print(r2_score(well2_new['DTC'], well2_new['Predicted DTC']))\n",
    "print(sqrt(mean_squared_error(well2_new['DTC'], well2_new['Predicted DTC'])))"
   ]
  },
  {
   "cell_type": "code",
   "execution_count": null,
   "id": "yabDB2wGSyXE",
   "metadata": {
    "colab": {
     "base_uri": "https://localhost:8080/",
     "height": 1000
    },
    "id": "yabDB2wGSyXE",
    "outputId": "d119286e-45ea-44c5-8f69-2e5b0b8be8a5"
   },
   "outputs": [],
   "source": [
    "make_log_plot(well2_new, 'GR', 'RT', 'NPHI', 'RHOB', 'DTC', 'Predicted DTC', 'DTS', 'Predicted DTS', '15_9-F-T2')"
   ]
  },
  {
   "cell_type": "markdown",
   "id": "2UpOcoSErOCE",
   "metadata": {
    "id": "2UpOcoSErOCE"
   },
   "source": [
    "## Well 4"
   ]
  },
  {
   "cell_type": "code",
   "execution_count": null,
   "id": "4zC12WXSxLno",
   "metadata": {
    "id": "4zC12WXSxLno"
   },
   "outputs": [],
   "source": [
    "well4_new = predict_logs(test_well4_x, test_well4_y, well4)"
   ]
  },
  {
   "cell_type": "code",
   "execution_count": null,
   "id": "ABlgnBiExVFz",
   "metadata": {
    "colab": {
     "base_uri": "https://localhost:8080/"
    },
    "id": "ABlgnBiExVFz",
    "outputId": "cea4bb27-98e7-4364-cdd2-83fd2336892f"
   },
   "outputs": [],
   "source": [
    "print(r2_score(well4_new['DTS'], well4_new['Predicted DTS']))\n",
    "print(sqrt(mean_squared_error(well4_new['DTS'], well4_new['Predicted DTS'])))"
   ]
  },
  {
   "cell_type": "code",
   "execution_count": null,
   "id": "QlMbdGNXxbaB",
   "metadata": {
    "colab": {
     "base_uri": "https://localhost:8080/"
    },
    "id": "QlMbdGNXxbaB",
    "outputId": "44d5f233-d70a-43b1-8f7d-ccfcc49f2557"
   },
   "outputs": [],
   "source": [
    "print(r2_score(well4_new['DTC'], well4_new['Predicted DTC']))\n",
    "print(sqrt(mean_squared_error(well4_new['DTC'], well4_new['Predicted DTC'])))"
   ]
  },
  {
   "cell_type": "code",
   "execution_count": null,
   "id": "hb0kcuLsxjfV",
   "metadata": {
    "colab": {
     "base_uri": "https://localhost:8080/",
     "height": 1000
    },
    "id": "hb0kcuLsxjfV",
    "outputId": "c1ac3112-1770-48fa-9400-06a902742a6a"
   },
   "outputs": [],
   "source": [
    "make_log_plot(well4_new, 'GR', 'RT', 'NPHI', 'RHOB', 'DTC', 'Predicted DTC', 'DTS', 'Predicted DTS', '15_9-F-1B')"
   ]
  },
  {
   "cell_type": "markdown",
   "id": "Tc0I-F4Js2zq",
   "metadata": {
    "id": "Tc0I-F4Js2zq"
   },
   "source": [
    "# Well 1"
   ]
  },
  {
   "cell_type": "code",
   "execution_count": null,
   "id": "W26NC5IZ6clQ",
   "metadata": {
    "id": "W26NC5IZ6clQ"
   },
   "outputs": [],
   "source": [
    "well1_new = predict_logs(train_well1_x, train_well1_y, well1)\n"
   ]
  },
  {
   "cell_type": "code",
   "execution_count": null,
   "id": "wZujXX0OA6Qg",
   "metadata": {
    "colab": {
     "base_uri": "https://localhost:8080/"
    },
    "id": "wZujXX0OA6Qg",
    "outputId": "daeab60b-df94-433d-d3d1-efdad0ba49bf"
   },
   "outputs": [],
   "source": [
    "print(r2_score(well1_new['DTS'], well1_new['Predicted DTS']))\n",
    "print(sqrt(mean_squared_error(well1_new['DTS'], well1_new['Predicted DTS'])))"
   ]
  },
  {
   "cell_type": "code",
   "execution_count": null,
   "id": "QIgLRL4OA_Em",
   "metadata": {
    "colab": {
     "base_uri": "https://localhost:8080/"
    },
    "id": "QIgLRL4OA_Em",
    "outputId": "8e85c3b4-88c9-4b77-e668-e5d02980a7c2"
   },
   "outputs": [],
   "source": [
    "print(r2_score(well1_new['DTC'], well1_new['Predicted DTC']))\n",
    "print(sqrt(mean_squared_error(well1_new['DTC'], well1_new['Predicted DTC'])))"
   ]
  },
  {
   "cell_type": "code",
   "execution_count": null,
   "id": "rdC2ShTtBHAA",
   "metadata": {
    "colab": {
     "base_uri": "https://localhost:8080/",
     "height": 1000
    },
    "id": "rdC2ShTtBHAA",
    "outputId": "a4b93d00-dc58-4496-d2be-457539b5866c"
   },
   "outputs": [],
   "source": [
    "make_log_plot(well1_new, 'GR', 'RT', 'NPHI', 'RHOB', 'DTC', 'Predicted DTC', 'DTS', 'Predicted DTS', '15_9-F-11A')"
   ]
  },
  {
   "cell_type": "markdown",
   "id": "ITfNSTRStTIb",
   "metadata": {
    "id": "ITfNSTRStTIb"
   },
   "source": [
    "# Well 3"
   ]
  },
  {
   "cell_type": "code",
   "execution_count": null,
   "id": "8V31ErgLBQWQ",
   "metadata": {
    "id": "8V31ErgLBQWQ"
   },
   "outputs": [],
   "source": [
    "well3_new = predict_logs(train_well3_x, train_well3_y, well3)\n"
   ]
  },
  {
   "cell_type": "code",
   "execution_count": null,
   "id": "tjiBi-AhBc6N",
   "metadata": {
    "colab": {
     "base_uri": "https://localhost:8080/"
    },
    "id": "tjiBi-AhBc6N",
    "outputId": "c10b27a5-c64a-4c89-9562-ea49818e1cac"
   },
   "outputs": [],
   "source": [
    "\n",
    "print(r2_score(well3_new['DTS'], well3_new['Predicted DTS']))\n",
    "print(sqrt(mean_squared_error(well3_new['DTS'], well3_new['Predicted DTS'])))\n",
    "\n",
    "print(r2_score(well3_new['DTC'], well3_new['Predicted DTC']))\n",
    "print(sqrt(mean_squared_error(well3_new['DTC'], well3_new['Predicted DTC'])))"
   ]
  },
  {
   "cell_type": "code",
   "execution_count": null,
   "id": "EZBNPrKXBgyi",
   "metadata": {
    "colab": {
     "base_uri": "https://localhost:8080/",
     "height": 1000
    },
    "id": "EZBNPrKXBgyi",
    "outputId": "41a91635-6ede-4d13-d298-d1013cabbbe7"
   },
   "outputs": [],
   "source": [
    "make_log_plot(well3_new, 'GR', 'RT', 'NPHI', 'RHOB', 'DTC', 'Predicted DTC', 'DTS', 'Predicted DTS', '15_9-F-1A')"
   ]
  },
  {
   "cell_type": "markdown",
   "id": "JUvOm613tj54",
   "metadata": {
    "id": "JUvOm613tj54"
   },
   "source": [
    "# Well 5"
   ]
  },
  {
   "cell_type": "code",
   "execution_count": null,
   "id": "myK7WoIAB-ZZ",
   "metadata": {
    "id": "myK7WoIAB-ZZ"
   },
   "outputs": [],
   "source": [
    "well5_new = predict_logs(train_well5_x, train_well5_y, well5)"
   ]
  },
  {
   "cell_type": "code",
   "execution_count": null,
   "id": "fFNu9cKRCN7Y",
   "metadata": {
    "colab": {
     "base_uri": "https://localhost:8080/"
    },
    "id": "fFNu9cKRCN7Y",
    "outputId": "ae1b9c56-e0f6-4db3-d8a9-91be34bc8578"
   },
   "outputs": [],
   "source": [
    "print(r2_score(well5_new['DTS'], well5_new['Predicted DTS']))\n",
    "print(sqrt(mean_squared_error(well5_new['DTS'], well5_new['Predicted DTS'])))\n",
    "\n",
    "print(r2_score(well5_new['DTC'], well5_new['Predicted DTC']))\n",
    "print(sqrt(mean_squared_error(well5_new['DTC'], well5_new['Predicted DTC'])))"
   ]
  },
  {
   "cell_type": "code",
   "execution_count": null,
   "id": "iMjd3auJCaFE",
   "metadata": {
    "colab": {
     "base_uri": "https://localhost:8080/",
     "height": 1000
    },
    "id": "iMjd3auJCaFE",
    "outputId": "b6943d62-a1a4-4923-b21a-ac79cbb4a595"
   },
   "outputs": [],
   "source": [
    "make_log_plot(well5_new, 'GR', 'RT', 'NPHI', 'RHOB', 'DTC', 'Predicted DTC', 'DTS', 'Predicted DTS', '15_9-F-4')"
   ]
  }
 ],
 "metadata": {
  "accelerator": "GPU",
  "colab": {
   "gpuType": "T4",
   "provenance": []
  },
  "kernelspec": {
   "display_name": "Python 3 (ipykernel)",
   "language": "python",
   "name": "python3"
  },
  "language_info": {
   "codemirror_mode": {
    "name": "ipython",
    "version": 3
   },
   "file_extension": ".py",
   "mimetype": "text/x-python",
   "name": "python",
   "nbconvert_exporter": "python",
   "pygments_lexer": "ipython3",
   "version": "3.9.13"
  },
  "widgets": {
   "application/vnd.jupyter.widget-state+json": {
    "1ea8c65b27814838bfec631959d5b582": {
     "model_module": "@jupyter-widgets/base",
     "model_module_version": "1.2.0",
     "model_name": "LayoutModel",
     "state": {
      "_model_module": "@jupyter-widgets/base",
      "_model_module_version": "1.2.0",
      "_model_name": "LayoutModel",
      "_view_count": null,
      "_view_module": "@jupyter-widgets/base",
      "_view_module_version": "1.2.0",
      "_view_name": "LayoutView",
      "align_content": null,
      "align_items": null,
      "align_self": null,
      "border": null,
      "bottom": null,
      "display": null,
      "flex": null,
      "flex_flow": null,
      "grid_area": null,
      "grid_auto_columns": null,
      "grid_auto_flow": null,
      "grid_auto_rows": null,
      "grid_column": null,
      "grid_gap": null,
      "grid_row": null,
      "grid_template_areas": null,
      "grid_template_columns": null,
      "grid_template_rows": null,
      "height": null,
      "justify_content": null,
      "justify_items": null,
      "left": null,
      "margin": null,
      "max_height": null,
      "max_width": null,
      "min_height": null,
      "min_width": null,
      "object_fit": null,
      "object_position": null,
      "order": null,
      "overflow": null,
      "overflow_x": null,
      "overflow_y": null,
      "padding": null,
      "right": null,
      "top": null,
      "visibility": null,
      "width": null
     }
    },
    "204156b9b63846a29a7c6a04dc2c21d1": {
     "model_module": "@jupyter-widgets/controls",
     "model_module_version": "1.5.0",
     "model_name": "HTMLModel",
     "state": {
      "_dom_classes": [],
      "_model_module": "@jupyter-widgets/controls",
      "_model_module_version": "1.5.0",
      "_model_name": "HTMLModel",
      "_view_count": null,
      "_view_module": "@jupyter-widgets/controls",
      "_view_module_version": "1.5.0",
      "_view_name": "HTMLView",
      "description": "",
      "description_tooltip": null,
      "layout": "IPY_MODEL_1ea8c65b27814838bfec631959d5b582",
      "placeholder": "​",
      "style": "IPY_MODEL_de36d58572d5406d81bb58750d0c27e7",
      "value": "100%"
     }
    },
    "2de1e24dd1084c159f0aa87f191728d9": {
     "model_module": "@jupyter-widgets/controls",
     "model_module_version": "1.5.0",
     "model_name": "HTMLModel",
     "state": {
      "_dom_classes": [],
      "_model_module": "@jupyter-widgets/controls",
      "_model_module_version": "1.5.0",
      "_model_name": "HTMLModel",
      "_view_count": null,
      "_view_module": "@jupyter-widgets/controls",
      "_view_module_version": "1.5.0",
      "_view_name": "HTMLView",
      "description": "",
      "description_tooltip": null,
      "layout": "IPY_MODEL_7e33867225bf46c1b2ff33338e66f044",
      "placeholder": "​",
      "style": "IPY_MODEL_33991d5c5d3d439282592b49dd5cb4a6",
      "value": " 200/200 [04:56&lt;00:00,  1.44s/it]"
     }
    },
    "33991d5c5d3d439282592b49dd5cb4a6": {
     "model_module": "@jupyter-widgets/controls",
     "model_module_version": "1.5.0",
     "model_name": "DescriptionStyleModel",
     "state": {
      "_model_module": "@jupyter-widgets/controls",
      "_model_module_version": "1.5.0",
      "_model_name": "DescriptionStyleModel",
      "_view_count": null,
      "_view_module": "@jupyter-widgets/base",
      "_view_module_version": "1.2.0",
      "_view_name": "StyleView",
      "description_width": ""
     }
    },
    "38747b26031a4168b57d1d43d7200c3b": {
     "model_module": "@jupyter-widgets/base",
     "model_module_version": "1.2.0",
     "model_name": "LayoutModel",
     "state": {
      "_model_module": "@jupyter-widgets/base",
      "_model_module_version": "1.2.0",
      "_model_name": "LayoutModel",
      "_view_count": null,
      "_view_module": "@jupyter-widgets/base",
      "_view_module_version": "1.2.0",
      "_view_name": "LayoutView",
      "align_content": null,
      "align_items": null,
      "align_self": null,
      "border": null,
      "bottom": null,
      "display": null,
      "flex": null,
      "flex_flow": null,
      "grid_area": null,
      "grid_auto_columns": null,
      "grid_auto_flow": null,
      "grid_auto_rows": null,
      "grid_column": null,
      "grid_gap": null,
      "grid_row": null,
      "grid_template_areas": null,
      "grid_template_columns": null,
      "grid_template_rows": null,
      "height": null,
      "justify_content": null,
      "justify_items": null,
      "left": null,
      "margin": null,
      "max_height": null,
      "max_width": null,
      "min_height": null,
      "min_width": null,
      "object_fit": null,
      "object_position": null,
      "order": null,
      "overflow": null,
      "overflow_x": null,
      "overflow_y": null,
      "padding": null,
      "right": null,
      "top": null,
      "visibility": null,
      "width": null
     }
    },
    "594e60ddcab74823a239b7870a256c8f": {
     "model_module": "@jupyter-widgets/controls",
     "model_module_version": "1.5.0",
     "model_name": "HBoxModel",
     "state": {
      "_dom_classes": [],
      "_model_module": "@jupyter-widgets/controls",
      "_model_module_version": "1.5.0",
      "_model_name": "HBoxModel",
      "_view_count": null,
      "_view_module": "@jupyter-widgets/controls",
      "_view_module_version": "1.5.0",
      "_view_name": "HBoxView",
      "box_style": "",
      "children": [
       "IPY_MODEL_204156b9b63846a29a7c6a04dc2c21d1",
       "IPY_MODEL_e38f235b87ab4fa8b36312ba6caa2295",
       "IPY_MODEL_2de1e24dd1084c159f0aa87f191728d9"
      ],
      "layout": "IPY_MODEL_38747b26031a4168b57d1d43d7200c3b"
     }
    },
    "5ac125ce2e7244e380f681147421aa1c": {
     "model_module": "@jupyter-widgets/base",
     "model_module_version": "1.2.0",
     "model_name": "LayoutModel",
     "state": {
      "_model_module": "@jupyter-widgets/base",
      "_model_module_version": "1.2.0",
      "_model_name": "LayoutModel",
      "_view_count": null,
      "_view_module": "@jupyter-widgets/base",
      "_view_module_version": "1.2.0",
      "_view_name": "LayoutView",
      "align_content": null,
      "align_items": null,
      "align_self": null,
      "border": null,
      "bottom": null,
      "display": null,
      "flex": null,
      "flex_flow": null,
      "grid_area": null,
      "grid_auto_columns": null,
      "grid_auto_flow": null,
      "grid_auto_rows": null,
      "grid_column": null,
      "grid_gap": null,
      "grid_row": null,
      "grid_template_areas": null,
      "grid_template_columns": null,
      "grid_template_rows": null,
      "height": null,
      "justify_content": null,
      "justify_items": null,
      "left": null,
      "margin": null,
      "max_height": null,
      "max_width": null,
      "min_height": null,
      "min_width": null,
      "object_fit": null,
      "object_position": null,
      "order": null,
      "overflow": null,
      "overflow_x": null,
      "overflow_y": null,
      "padding": null,
      "right": null,
      "top": null,
      "visibility": null,
      "width": null
     }
    },
    "63f38f6ae20e42a3a2b78b6211928521": {
     "model_module": "@jupyter-widgets/controls",
     "model_module_version": "1.5.0",
     "model_name": "ProgressStyleModel",
     "state": {
      "_model_module": "@jupyter-widgets/controls",
      "_model_module_version": "1.5.0",
      "_model_name": "ProgressStyleModel",
      "_view_count": null,
      "_view_module": "@jupyter-widgets/base",
      "_view_module_version": "1.2.0",
      "_view_name": "StyleView",
      "bar_color": null,
      "description_width": ""
     }
    },
    "7e33867225bf46c1b2ff33338e66f044": {
     "model_module": "@jupyter-widgets/base",
     "model_module_version": "1.2.0",
     "model_name": "LayoutModel",
     "state": {
      "_model_module": "@jupyter-widgets/base",
      "_model_module_version": "1.2.0",
      "_model_name": "LayoutModel",
      "_view_count": null,
      "_view_module": "@jupyter-widgets/base",
      "_view_module_version": "1.2.0",
      "_view_name": "LayoutView",
      "align_content": null,
      "align_items": null,
      "align_self": null,
      "border": null,
      "bottom": null,
      "display": null,
      "flex": null,
      "flex_flow": null,
      "grid_area": null,
      "grid_auto_columns": null,
      "grid_auto_flow": null,
      "grid_auto_rows": null,
      "grid_column": null,
      "grid_gap": null,
      "grid_row": null,
      "grid_template_areas": null,
      "grid_template_columns": null,
      "grid_template_rows": null,
      "height": null,
      "justify_content": null,
      "justify_items": null,
      "left": null,
      "margin": null,
      "max_height": null,
      "max_width": null,
      "min_height": null,
      "min_width": null,
      "object_fit": null,
      "object_position": null,
      "order": null,
      "overflow": null,
      "overflow_x": null,
      "overflow_y": null,
      "padding": null,
      "right": null,
      "top": null,
      "visibility": null,
      "width": null
     }
    },
    "de36d58572d5406d81bb58750d0c27e7": {
     "model_module": "@jupyter-widgets/controls",
     "model_module_version": "1.5.0",
     "model_name": "DescriptionStyleModel",
     "state": {
      "_model_module": "@jupyter-widgets/controls",
      "_model_module_version": "1.5.0",
      "_model_name": "DescriptionStyleModel",
      "_view_count": null,
      "_view_module": "@jupyter-widgets/base",
      "_view_module_version": "1.2.0",
      "_view_name": "StyleView",
      "description_width": ""
     }
    },
    "e38f235b87ab4fa8b36312ba6caa2295": {
     "model_module": "@jupyter-widgets/controls",
     "model_module_version": "1.5.0",
     "model_name": "FloatProgressModel",
     "state": {
      "_dom_classes": [],
      "_model_module": "@jupyter-widgets/controls",
      "_model_module_version": "1.5.0",
      "_model_name": "FloatProgressModel",
      "_view_count": null,
      "_view_module": "@jupyter-widgets/controls",
      "_view_module_version": "1.5.0",
      "_view_name": "ProgressView",
      "bar_style": "success",
      "description": "",
      "description_tooltip": null,
      "layout": "IPY_MODEL_5ac125ce2e7244e380f681147421aa1c",
      "max": 200,
      "min": 0,
      "orientation": "horizontal",
      "style": "IPY_MODEL_63f38f6ae20e42a3a2b78b6211928521",
      "value": 200
     }
    }
   }
  }
 },
 "nbformat": 4,
 "nbformat_minor": 5
}
